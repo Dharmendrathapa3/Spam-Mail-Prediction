{
  "nbformat": 4,
  "nbformat_minor": 0,
  "metadata": {
    "colab": {
      "provenance": []
    },
    "kernelspec": {
      "name": "python3",
      "display_name": "Python 3"
    },
    "language_info": {
      "name": "python"
    }
  },
  "cells": [
    {
      "cell_type": "code",
      "execution_count": null,
      "metadata": {
        "id": "ugcXnLn6GyeG"
      },
      "outputs": [],
      "source": [
        "import numpy as np\n",
        "import pandas as pd\n",
        "from sklearn.model_selection import train_test_split\n",
        "from sklearn.feature_extraction.text import TfidfVectorizer\n",
        "from sklearn.metrics import precision_score, recall_score, f1_score, confusion_matrix, accuracy_score, plot_confusion_matrix\n",
        "import matplotlib.pyplot as plt\n",
        "from sklearn.naive_bayes import MultinomialNB\n",
        "from sklearn.linear_model import LogisticRegression\n"
      ]
    },
    {
      "cell_type": "code",
      "source": [
        "# loading the data from csv file to a pandas Dataframe\n",
        "raw_mail_data = pd.read_csv('mail_data.csv')"
      ],
      "metadata": {
        "id": "vFnvMuVYHAGL"
      },
      "execution_count": null,
      "outputs": []
    },
    {
      "cell_type": "code",
      "source": [
        "raw_mail_data"
      ],
      "metadata": {
        "colab": {
          "base_uri": "https://localhost:8080/",
          "height": 424
        },
        "id": "ODdLi-nwraMJ",
        "outputId": "476f6017-94ac-4295-b62c-df0c1ca5d39a"
      },
      "execution_count": null,
      "outputs": [
        {
          "output_type": "execute_result",
          "data": {
            "text/plain": [
              "     Category                                            Message\n",
              "0         ham  Go until jurong point, crazy.. Available only ...\n",
              "1         ham                      Ok lar... Joking wif u oni...\n",
              "2        spam  Free entry in 2 a wkly comp to win FA Cup fina...\n",
              "3         ham  U dun say so early hor... U c already then say...\n",
              "4         ham  Nah I don't think he goes to usf, he lives aro...\n",
              "...       ...                                                ...\n",
              "5567     spam  This is the 2nd time we have tried 2 contact u...\n",
              "5568      ham               Will ü b going to esplanade fr home?\n",
              "5569      ham  Pity, * was in mood for that. So...any other s...\n",
              "5570      ham  The guy did some bitching but I acted like i'd...\n",
              "5571      ham                         Rofl. Its true to its name\n",
              "\n",
              "[5572 rows x 2 columns]"
            ],
            "text/html": [
              "\n",
              "  <div id=\"df-7964a89e-ed5c-4910-9328-73643a822ba7\">\n",
              "    <div class=\"colab-df-container\">\n",
              "      <div>\n",
              "<style scoped>\n",
              "    .dataframe tbody tr th:only-of-type {\n",
              "        vertical-align: middle;\n",
              "    }\n",
              "\n",
              "    .dataframe tbody tr th {\n",
              "        vertical-align: top;\n",
              "    }\n",
              "\n",
              "    .dataframe thead th {\n",
              "        text-align: right;\n",
              "    }\n",
              "</style>\n",
              "<table border=\"1\" class=\"dataframe\">\n",
              "  <thead>\n",
              "    <tr style=\"text-align: right;\">\n",
              "      <th></th>\n",
              "      <th>Category</th>\n",
              "      <th>Message</th>\n",
              "    </tr>\n",
              "  </thead>\n",
              "  <tbody>\n",
              "    <tr>\n",
              "      <th>0</th>\n",
              "      <td>ham</td>\n",
              "      <td>Go until jurong point, crazy.. Available only ...</td>\n",
              "    </tr>\n",
              "    <tr>\n",
              "      <th>1</th>\n",
              "      <td>ham</td>\n",
              "      <td>Ok lar... Joking wif u oni...</td>\n",
              "    </tr>\n",
              "    <tr>\n",
              "      <th>2</th>\n",
              "      <td>spam</td>\n",
              "      <td>Free entry in 2 a wkly comp to win FA Cup fina...</td>\n",
              "    </tr>\n",
              "    <tr>\n",
              "      <th>3</th>\n",
              "      <td>ham</td>\n",
              "      <td>U dun say so early hor... U c already then say...</td>\n",
              "    </tr>\n",
              "    <tr>\n",
              "      <th>4</th>\n",
              "      <td>ham</td>\n",
              "      <td>Nah I don't think he goes to usf, he lives aro...</td>\n",
              "    </tr>\n",
              "    <tr>\n",
              "      <th>...</th>\n",
              "      <td>...</td>\n",
              "      <td>...</td>\n",
              "    </tr>\n",
              "    <tr>\n",
              "      <th>5567</th>\n",
              "      <td>spam</td>\n",
              "      <td>This is the 2nd time we have tried 2 contact u...</td>\n",
              "    </tr>\n",
              "    <tr>\n",
              "      <th>5568</th>\n",
              "      <td>ham</td>\n",
              "      <td>Will ü b going to esplanade fr home?</td>\n",
              "    </tr>\n",
              "    <tr>\n",
              "      <th>5569</th>\n",
              "      <td>ham</td>\n",
              "      <td>Pity, * was in mood for that. So...any other s...</td>\n",
              "    </tr>\n",
              "    <tr>\n",
              "      <th>5570</th>\n",
              "      <td>ham</td>\n",
              "      <td>The guy did some bitching but I acted like i'd...</td>\n",
              "    </tr>\n",
              "    <tr>\n",
              "      <th>5571</th>\n",
              "      <td>ham</td>\n",
              "      <td>Rofl. Its true to its name</td>\n",
              "    </tr>\n",
              "  </tbody>\n",
              "</table>\n",
              "<p>5572 rows × 2 columns</p>\n",
              "</div>\n",
              "      <button class=\"colab-df-convert\" onclick=\"convertToInteractive('df-7964a89e-ed5c-4910-9328-73643a822ba7')\"\n",
              "              title=\"Convert this dataframe to an interactive table.\"\n",
              "              style=\"display:none;\">\n",
              "        \n",
              "  <svg xmlns=\"http://www.w3.org/2000/svg\" height=\"24px\"viewBox=\"0 0 24 24\"\n",
              "       width=\"24px\">\n",
              "    <path d=\"M0 0h24v24H0V0z\" fill=\"none\"/>\n",
              "    <path d=\"M18.56 5.44l.94 2.06.94-2.06 2.06-.94-2.06-.94-.94-2.06-.94 2.06-2.06.94zm-11 1L8.5 8.5l.94-2.06 2.06-.94-2.06-.94L8.5 2.5l-.94 2.06-2.06.94zm10 10l.94 2.06.94-2.06 2.06-.94-2.06-.94-.94-2.06-.94 2.06-2.06.94z\"/><path d=\"M17.41 7.96l-1.37-1.37c-.4-.4-.92-.59-1.43-.59-.52 0-1.04.2-1.43.59L10.3 9.45l-7.72 7.72c-.78.78-.78 2.05 0 2.83L4 21.41c.39.39.9.59 1.41.59.51 0 1.02-.2 1.41-.59l7.78-7.78 2.81-2.81c.8-.78.8-2.07 0-2.86zM5.41 20L4 18.59l7.72-7.72 1.47 1.35L5.41 20z\"/>\n",
              "  </svg>\n",
              "      </button>\n",
              "      \n",
              "  <style>\n",
              "    .colab-df-container {\n",
              "      display:flex;\n",
              "      flex-wrap:wrap;\n",
              "      gap: 12px;\n",
              "    }\n",
              "\n",
              "    .colab-df-convert {\n",
              "      background-color: #E8F0FE;\n",
              "      border: none;\n",
              "      border-radius: 50%;\n",
              "      cursor: pointer;\n",
              "      display: none;\n",
              "      fill: #1967D2;\n",
              "      height: 32px;\n",
              "      padding: 0 0 0 0;\n",
              "      width: 32px;\n",
              "    }\n",
              "\n",
              "    .colab-df-convert:hover {\n",
              "      background-color: #E2EBFA;\n",
              "      box-shadow: 0px 1px 2px rgba(60, 64, 67, 0.3), 0px 1px 3px 1px rgba(60, 64, 67, 0.15);\n",
              "      fill: #174EA6;\n",
              "    }\n",
              "\n",
              "    [theme=dark] .colab-df-convert {\n",
              "      background-color: #3B4455;\n",
              "      fill: #D2E3FC;\n",
              "    }\n",
              "\n",
              "    [theme=dark] .colab-df-convert:hover {\n",
              "      background-color: #434B5C;\n",
              "      box-shadow: 0px 1px 3px 1px rgba(0, 0, 0, 0.15);\n",
              "      filter: drop-shadow(0px 1px 2px rgba(0, 0, 0, 0.3));\n",
              "      fill: #FFFFFF;\n",
              "    }\n",
              "  </style>\n",
              "\n",
              "      <script>\n",
              "        const buttonEl =\n",
              "          document.querySelector('#df-7964a89e-ed5c-4910-9328-73643a822ba7 button.colab-df-convert');\n",
              "        buttonEl.style.display =\n",
              "          google.colab.kernel.accessAllowed ? 'block' : 'none';\n",
              "\n",
              "        async function convertToInteractive(key) {\n",
              "          const element = document.querySelector('#df-7964a89e-ed5c-4910-9328-73643a822ba7');\n",
              "          const dataTable =\n",
              "            await google.colab.kernel.invokeFunction('convertToInteractive',\n",
              "                                                     [key], {});\n",
              "          if (!dataTable) return;\n",
              "\n",
              "          const docLinkHtml = 'Like what you see? Visit the ' +\n",
              "            '<a target=\"_blank\" href=https://colab.research.google.com/notebooks/data_table.ipynb>data table notebook</a>'\n",
              "            + ' to learn more about interactive tables.';\n",
              "          element.innerHTML = '';\n",
              "          dataTable['output_type'] = 'display_data';\n",
              "          await google.colab.output.renderOutput(dataTable, element);\n",
              "          const docLink = document.createElement('div');\n",
              "          docLink.innerHTML = docLinkHtml;\n",
              "          element.appendChild(docLink);\n",
              "        }\n",
              "      </script>\n",
              "    </div>\n",
              "  </div>\n",
              "  "
            ]
          },
          "metadata": {},
          "execution_count": 139
        }
      ]
    },
    {
      "cell_type": "code",
      "source": [
        "raw_mail_data.value_counts('Category')"
      ],
      "metadata": {
        "colab": {
          "base_uri": "https://localhost:8080/"
        },
        "id": "Jb3UqsbGre3B",
        "outputId": "b19a05df-546d-4b64-ab28-adb0605c3abb"
      },
      "execution_count": null,
      "outputs": [
        {
          "output_type": "execute_result",
          "data": {
            "text/plain": [
              "Category\n",
              "ham     4825\n",
              "spam     747\n",
              "dtype: int64"
            ]
          },
          "metadata": {},
          "execution_count": 140
        }
      ]
    },
    {
      "cell_type": "code",
      "source": [
        "# replace the null values with a null string\n",
        "mail_data = raw_mail_data.where((pd.notnull(raw_mail_data)),'')"
      ],
      "metadata": {
        "id": "RhyjeOXGHMjc"
      },
      "execution_count": null,
      "outputs": []
    },
    {
      "cell_type": "code",
      "source": [
        "# label spam mail as 0;  inbox mail as 1;\n",
        "\n",
        "mail_data.loc[mail_data['Category'] == 'spam', 'Category',] = 0\n",
        "mail_data.loc[mail_data['Category'] == 'ham', 'Category',] = 1\n",
        "# mail_data.value_counts('Category')\n"
      ],
      "metadata": {
        "id": "8zwqXHbMHi00"
      },
      "execution_count": null,
      "outputs": []
    },
    {
      "cell_type": "code",
      "source": [
        "# separating the data as texts and label\n",
        "X = mail_data['Message']\n",
        "Y = mail_data['Category']"
      ],
      "metadata": {
        "id": "c_C7ZzhYHldU"
      },
      "execution_count": null,
      "outputs": []
    },
    {
      "cell_type": "code",
      "source": [
        "X_train, X_test, Y_train, Y_test = train_test_split(X, Y, test_size=0.2, random_state=123)"
      ],
      "metadata": {
        "id": "uhF-mThTHn6S"
      },
      "execution_count": null,
      "outputs": []
    },
    {
      "cell_type": "markdown",
      "source": [
        "Feature Extraction"
      ],
      "metadata": {
        "id": "XDjgCf1vHzTT"
      }
    },
    {
      "cell_type": "code",
      "source": [
        "# # transform the text data to feature vectors that can be used as input to the Logistic regression\n",
        "\n",
        "feature_extraction = TfidfVectorizer(min_df = 1, stop_words='english', lowercase='True')\n",
        "\n",
        "X_train_features = feature_extraction.fit_transform(X_train)\n",
        "X_test_features = feature_extraction.transform(X_test)\n",
        "\n",
        "# convert Y_train and Y_test values as integers\n",
        "\n",
        "Y_train = Y_train.astype('int')\n",
        "Y_test = Y_test.astype('int')"
      ],
      "metadata": {
        "id": "rZcR5Q0dHvZx"
      },
      "execution_count": null,
      "outputs": []
    },
    {
      "cell_type": "markdown",
      "source": [
        "Training the Model with Navi Bays"
      ],
      "metadata": {
        "id": "XA-lwnN8IT3b"
      }
    },
    {
      "cell_type": "code",
      "source": [
        "model = MultinomialNB()"
      ],
      "metadata": {
        "id": "bA0RHpfdIqyy"
      },
      "execution_count": null,
      "outputs": []
    },
    {
      "cell_type": "markdown",
      "source": [
        "Evaluating the trained model"
      ],
      "metadata": {
        "id": "bAiARKjeInR2"
      }
    },
    {
      "cell_type": "code",
      "source": [
        "# prediction on training data\n",
        "model.fit(X_train_features, Y_train)\n",
        "MultinomialNB_model=model.fit(X_train_features, Y_train)\n",
        "\n",
        "prediction_on_training_data = model.predict(X_train_features)\n",
        "accuracy_on_training_data = accuracy_score(Y_train, prediction_on_training_data)\n",
        "print('Accuracy on training data : ', accuracy_on_training_data)\n",
        "confusion_matrix(Y_train, prediction_on_training_data)"
      ],
      "metadata": {
        "id": "FTEnGLnfIZN9",
        "colab": {
          "base_uri": "https://localhost:8080/"
        },
        "outputId": "18e3e46d-dc47-4812-b7fa-68ad87a41e10"
      },
      "execution_count": null,
      "outputs": [
        {
          "output_type": "stream",
          "name": "stdout",
          "text": [
            "Accuracy on training data :  0.9820507067534215\n"
          ]
        },
        {
          "output_type": "execute_result",
          "data": {
            "text/plain": [
              "array([[ 514,   80],\n",
              "       [   0, 3863]])"
            ]
          },
          "metadata": {},
          "execution_count": 147
        }
      ]
    },
    {
      "cell_type": "markdown",
      "source": [
        "Evaluating the Test model"
      ],
      "metadata": {
        "id": "xYADVKZHUZD0"
      }
    },
    {
      "cell_type": "code",
      "source": [
        "# prediction on test data\n",
        "prediction_on_test_data = model.predict(X_test_features)\n",
        "accuracy_on_test_data = accuracy_score(Y_test, prediction_on_test_data)\n",
        "print('Accuracy on Test data : ', accuracy_on_test_data)\n",
        "confusion_matrix(Y_test, prediction_on_test_data)"
      ],
      "metadata": {
        "id": "1D9pDPn-T7aF",
        "colab": {
          "base_uri": "https://localhost:8080/"
        },
        "outputId": "22776f92-61a7-42bb-a44c-aad368e4e7fe"
      },
      "execution_count": null,
      "outputs": [
        {
          "output_type": "stream",
          "name": "stdout",
          "text": [
            "Accuracy on Test data :  0.9730941704035875\n"
          ]
        },
        {
          "output_type": "execute_result",
          "data": {
            "text/plain": [
              "array([[123,  30],\n",
              "       [  0, 962]])"
            ]
          },
          "metadata": {},
          "execution_count": 148
        }
      ]
    },
    {
      "cell_type": "markdown",
      "source": [
        "Building a Predictive System"
      ],
      "metadata": {
        "id": "cHVuMMa3I6Z4"
      }
    },
    {
      "cell_type": "code",
      "source": [
        "# input_mail = [\"URGENT! You have won a 1 week FREE membership in our Â£100,000 Prize Jackpot! Txt the word: CLAIM to No: 81010 T&C www.dbuk.net LCCLTD POBOX 4403LDNW1A7RW18\"]\n",
        "\n",
        "# # convert text to feature vectors\n",
        "# input_data_features = feature_extraction.transform(input_mail)\n",
        "\n",
        "# # making prediction\n",
        "\n",
        "# prediction = model.predict(input_data_features)\n",
        "\n",
        "\n",
        "# if (prediction[0]==1):\n",
        "#   print('Prediction: Inbox mail')\n",
        "\n",
        "# else:\n",
        "#   print('Prediction: Spam mail')"
      ],
      "metadata": {
        "id": "4eVwf7NaI2Yi"
      },
      "execution_count": null,
      "outputs": []
    },
    {
      "cell_type": "markdown",
      "source": [
        "**Data Analysis**"
      ],
      "metadata": {
        "id": "QSIiUXew4FeX"
      }
    },
    {
      "cell_type": "markdown",
      "source": [
        "**Traning Data Analysis**"
      ],
      "metadata": {
        "id": "C0IXDDJPlIBd"
      }
    },
    {
      "cell_type": "code",
      "source": [
        "  accuracy_value= accuracy_on_training_data*100\n",
        "  precision_value = precision_score(Y_train, prediction_on_training_data)*100\n",
        "  recall_value = recall_score(Y_train, prediction_on_training_data)*100\n",
        "  f1_score_value = f1_score(Y_train, prediction_on_training_data)*100\n",
        "\n",
        "  print('Accuracy =',accuracy_value,'%')\n",
        "  print('Precision =',precision_value,'%')\n",
        "  print('Recall =',recall_value,'%')\n",
        "  print('F1 Score =',f1_score_value,'%')"
      ],
      "metadata": {
        "id": "_INvcej1lMUs",
        "colab": {
          "base_uri": "https://localhost:8080/"
        },
        "outputId": "e9bc5730-2f2a-4efb-bdc5-2c5e2b12b16c"
      },
      "execution_count": null,
      "outputs": [
        {
          "output_type": "stream",
          "name": "stdout",
          "text": [
            "Accuracy = 98.20507067534216 %\n",
            "Precision = 97.97108800405783 %\n",
            "Recall = 100.0 %\n",
            "F1 Score = 98.97514732257238 %\n"
          ]
        }
      ]
    },
    {
      "cell_type": "code",
      "source": [
        "#Code for graph\n",
        "fig= plt.figure()\n",
        "ax=fig.add_axes([0,0,1,1])\n",
        "performance=['Accuracy','Precision','Recall', 'F1 Score']\n",
        "data=[accuracy_value, precision_value, recall_value, f1_score_value]\n",
        "ax.bar(performance,data)\n",
        "plt.title('Traning Data Analysis',fontsize=16,weight='bold')\n",
        "plt.xlabel('Performance',fontsize=14)\n",
        "plt.ylabel('Data(%)',fontsize=14)\n",
        "plt.show()\n"
      ],
      "metadata": {
        "id": "zCKAK-pss0ic",
        "colab": {
          "base_uri": "https://localhost:8080/",
          "height": 372
        },
        "outputId": "2c207188-f512-414f-e3e1-948fa0f0873d"
      },
      "execution_count": null,
      "outputs": [
        {
          "output_type": "display_data",
          "data": {
            "text/plain": [
              "<Figure size 432x288 with 1 Axes>"
            ],
            "image/png": "[encoded data removed]"
          },
          "metadata": {
            "needs_background": "light"
          }
        }
      ]
    },
    {
      "cell_type": "markdown",
      "source": [
        "**Test Data Analysis**"
      ],
      "metadata": {
        "id": "hAXfXr8Ejqag"
      }
    },
    {
      "cell_type": "code",
      "source": [
        "accuracy_value= accuracy_on_test_data*100\n",
        "precision_value = precision_score(Y_test, prediction_on_test_data)*100\n",
        "recall_value = recall_score(Y_test, prediction_on_test_data)*100\n",
        "f1_score_value = f1_score(Y_test, prediction_on_test_data)*100\n",
        "\n",
        "print('Accuracy =',accuracy_value,'%')\n",
        "print('Precision =',precision_value,'%')\n",
        "print('Recall =',recall_value,'%')\n",
        "print('F1 Score =',f1_score_value,'%')"
      ],
      "metadata": {
        "id": "UcmNRSlgZ1M-",
        "colab": {
          "base_uri": "https://localhost:8080/"
        },
        "outputId": "7414e504-8b92-47c8-f160-31fbcb190ae7"
      },
      "execution_count": null,
      "outputs": [
        {
          "output_type": "stream",
          "name": "stdout",
          "text": [
            "Accuracy = 97.30941704035875 %\n",
            "Precision = 96.9758064516129 %\n",
            "Recall = 100.0 %\n",
            "F1 Score = 98.4646878198567 %\n"
          ]
        }
      ]
    },
    {
      "cell_type": "code",
      "source": [
        "#Code for graph\n",
        "fig= plt.figure()\n",
        "ax=fig.add_axes([0,0,1,1])\n",
        "# ax1=plt.subplot(111)\n",
        "performance=['Accuracy','Precision','Recall', 'F1 Score']\n",
        "data=[accuracy_value, precision_value, recall_value, f1_score_value]\n",
        "ax.bar(performance,data)\n",
        "plt.title('Test Data Analysis',fontsize=16,weight='bold')\n",
        "plt.xlabel('Performance',fontsize=14)\n",
        "plt.ylabel('Data(%)',fontsize=14)\n",
        "\n",
        "plt.show()\n"
      ],
      "metadata": {
        "id": "8ufVxh8aoUpq",
        "colab": {
          "base_uri": "https://localhost:8080/",
          "height": 372
        },
        "outputId": "83b4bf50-289d-4e4f-9ea1-cc4031d67581"
      },
      "execution_count": null,
      "outputs": [
        {
          "output_type": "display_data",
          "data": {
            "text/plain": [
              "<Figure size 432x288 with 1 Axes>"
            ],
            "image/png": "[encoded data removed]"
          },
          "metadata": {
            "needs_background": "light"
          }
        }
      ]
    },
    {
      "cell_type": "markdown",
      "source": [
        "**Confusion Matrix Train**"
      ],
      "metadata": {
        "id": "pGlwAhpnwxpL"
      }
    },
    {
      "cell_type": "code",
      "source": [
        "print(Y_train.value_counts())\n",
        "print(Y_test.value_counts())"
      ],
      "metadata": {
        "colab": {
          "base_uri": "https://localhost:8080/"
        },
        "id": "SxBXI9odt-Bc",
        "outputId": "170f0712-b494-4738-b40d-c45fe0116212"
      },
      "execution_count": null,
      "outputs": [
        {
          "output_type": "stream",
          "name": "stdout",
          "text": [
            "1    3863\n",
            "0     594\n",
            "Name: Category, dtype: int64\n",
            "1    962\n",
            "0    153\n",
            "Name: Category, dtype: int64\n"
          ]
        }
      ]
    },
    {
      "cell_type": "markdown",
      "source": [
        "**Logistic Regression**"
      ],
      "metadata": {
        "id": "Y6dYdpyVpkxB"
      }
    },
    {
      "cell_type": "code",
      "source": [
        "log_model = LogisticRegression()"
      ],
      "metadata": {
        "id": "U2qn93ZppnAA"
      },
      "execution_count": null,
      "outputs": []
    },
    {
      "cell_type": "markdown",
      "source": [
        "**Evalutation Of Training Model**"
      ],
      "metadata": {
        "id": "6QO4rmOWqCPF"
      }
    },
    {
      "cell_type": "code",
      "source": [
        "# prediction on training data\n",
        "log_model.fit(X_train_features, Y_train)\n",
        "\n",
        "prediction_on_training_data = log_model.predict(X_train_features)\n",
        "accuracy_on_training_data = accuracy_score(Y_train, prediction_on_training_data)\n",
        "print('Accuracy on training data : ', accuracy_on_training_data)\n",
        "confusion_matrix(Y_train, prediction_on_training_data)"
      ],
      "metadata": {
        "colab": {
          "base_uri": "https://localhost:8080/"
        },
        "id": "GhVaHsLZp98X",
        "outputId": "dc747a16-b913-470b-e8db-f7aa6e7bfd2d"
      },
      "execution_count": null,
      "outputs": [
        {
          "output_type": "stream",
          "name": "stdout",
          "text": [
            "Accuracy on training data :  0.9672425398249944\n"
          ]
        },
        {
          "output_type": "execute_result",
          "data": {
            "text/plain": [
              "array([[ 451,  143],\n",
              "       [   3, 3860]])"
            ]
          },
          "metadata": {},
          "execution_count": 158
        }
      ]
    },
    {
      "cell_type": "markdown",
      "source": [
        "**Analysis**"
      ],
      "metadata": {
        "id": "2ZpgHBVfsJd4"
      }
    },
    {
      "cell_type": "code",
      "source": [
        "  accuracy_value= accuracy_on_training_data*100\n",
        "  precision_value = precision_score(Y_train, prediction_on_training_data)*100\n",
        "  recall_value = recall_score(Y_train, prediction_on_training_data)*100\n",
        "  f1_score_value = f1_score(Y_train, prediction_on_training_data)*100\n",
        "\n",
        "  print('Accuracy =',accuracy_value,'%')\n",
        "  print('Precision =',precision_value,'%')\n",
        "  print('Recall =',recall_value,'%')\n",
        "  print('F1 Score =',f1_score_value,'%')"
      ],
      "metadata": {
        "colab": {
          "base_uri": "https://localhost:8080/"
        },
        "id": "oQTYKuu-sHUI",
        "outputId": "27b0a877-41de-4e4b-da5a-7b99d6ceafd5"
      },
      "execution_count": null,
      "outputs": [
        {
          "output_type": "stream",
          "name": "stdout",
          "text": [
            "Accuracy = 96.72425398249945 %\n",
            "Precision = 96.42767924056957 %\n",
            "Recall = 99.92234015014238 %\n",
            "F1 Score = 98.1439105008899 %\n"
          ]
        }
      ]
    },
    {
      "cell_type": "code",
      "source": [
        "#Code for graph\n",
        "fig= plt.figure()\n",
        "ax=fig.add_axes([0,0,1,1])\n",
        "performance=['Accuracy','Precision','Recall', 'F1 Score']\n",
        "data=[accuracy_value, precision_value, recall_value, f1_score_value]\n",
        "ax.bar(performance,data)\n",
        "plt.title('Traning Data Analysis',fontsize=16,weight='bold')\n",
        "plt.xlabel('Performance',fontsize=14)\n",
        "plt.ylabel('Data(%)',fontsize=14)\n",
        "plt.show()\n"
      ],
      "metadata": {
        "colab": {
          "base_uri": "https://localhost:8080/",
          "height": 372
        },
        "id": "PrVb8pjmsZor",
        "outputId": "a40eb6f5-18d4-445e-90b8-ac9d7d3cc7e2"
      },
      "execution_count": null,
      "outputs": [
        {
          "output_type": "display_data",
          "data": {
            "text/plain": [
              "<Figure size 432x288 with 1 Axes>"
            ],
            "image/png": "[encoded data removed]"
          },
          "metadata": {
            "needs_background": "light"
          }
        }
      ]
    },
    {
      "cell_type": "markdown",
      "source": [
        "**Evalutation of Testing Model**"
      ],
      "metadata": {
        "id": "rKEmnwp0qGzO"
      }
    },
    {
      "cell_type": "code",
      "source": [
        "prediction_on_test_data = log_model.predict(X_test_features)\n",
        "accuracy_on_test_data = accuracy_score(Y_test, prediction_on_test_data)\n",
        "print('Accuracy on Test data : ', accuracy_on_test_data)\n",
        "confusion_matrix(Y_test, prediction_on_test_data)"
      ],
      "metadata": {
        "colab": {
          "base_uri": "https://localhost:8080/"
        },
        "id": "u0XkCpgEqJ1Y",
        "outputId": "23700fab-58d4-440f-a33b-b907c7d3cd38"
      },
      "execution_count": null,
      "outputs": [
        {
          "output_type": "stream",
          "name": "stdout",
          "text": [
            "Accuracy on Test data :  0.9668161434977578\n"
          ]
        },
        {
          "output_type": "execute_result",
          "data": {
            "text/plain": [
              "array([[117,  36],\n",
              "       [  1, 961]])"
            ]
          },
          "metadata": {},
          "execution_count": 162
        }
      ]
    },
    {
      "cell_type": "markdown",
      "source": [
        "**Analysis**"
      ],
      "metadata": {
        "id": "fCjdM-3_sPY4"
      }
    },
    {
      "cell_type": "code",
      "source": [
        "accuracy_value= accuracy_on_test_data*100\n",
        "precision_value = precision_score(Y_test, prediction_on_test_data)*100\n",
        "recall_value = recall_score(Y_test, prediction_on_test_data)*100\n",
        "f1_score_value = f1_score(Y_test, prediction_on_test_data)*100\n",
        "\n",
        "print('Accuracy =',accuracy_value,'%')\n",
        "print('Precision =',precision_value,'%')\n",
        "print('Recall =',recall_value,'%')\n",
        "print('F1 Score =',f1_score_value,'%')"
      ],
      "metadata": {
        "colab": {
          "base_uri": "https://localhost:8080/"
        },
        "id": "P0qbuLassRpu",
        "outputId": "1df67f92-a338-429c-cd85-ab0f34cf3d77"
      },
      "execution_count": null,
      "outputs": [
        {
          "output_type": "stream",
          "name": "stdout",
          "text": [
            "Accuracy = 96.68161434977578 %\n",
            "Precision = 96.38916750250752 %\n",
            "Recall = 99.8960498960499 %\n",
            "F1 Score = 98.11128126595202 %\n"
          ]
        }
      ]
    },
    {
      "cell_type": "code",
      "source": [
        "#Code for graph\n",
        "fig= plt.figure()\n",
        "ax=fig.add_axes([0,0,1,1])\n",
        "performance=['Accuracy','Precision','Recall', 'F1 Score']\n",
        "data=[accuracy_value, precision_value, recall_value, f1_score_value]\n",
        "ax.bar(performance,data)\n",
        "plt.title('Testing Data Analysis',fontsize=16,weight='bold')\n",
        "plt.xlabel('Performance',fontsize=14)\n",
        "plt.ylabel('Data(%)',fontsize=14)\n",
        "plt.show()"
      ],
      "metadata": {
        "colab": {
          "base_uri": "https://localhost:8080/",
          "height": 372
        },
        "id": "dywpfdKGMA1q",
        "outputId": "209540a0-14b8-475d-ff25-72c98e6129f7"
      },
      "execution_count": null,
      "outputs": [
        {
          "output_type": "display_data",
          "data": {
            "text/plain": [
              "<Figure size 432x288 with 1 Axes>"
            ],
            "image/png": "[encoded data removed]"
          },
          "metadata": {
            "needs_background": "light"
          }
        }
      ]
    }
  ]
}